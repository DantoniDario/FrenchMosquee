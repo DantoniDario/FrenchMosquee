{
 "cells": [
  {
   "cell_type": "code",
   "execution_count": 15,
   "metadata": {},
   "outputs": [
    {
     "name": "stdout",
     "output_type": "stream",
     "text": [
      "Requirement already satisfied: beautifulsoup4 in /Users/dantoni/opt/anaconda3/lib/python3.7/site-packages (4.11.1)\n",
      "Requirement already satisfied: soupsieve>1.2 in /Users/dantoni/opt/anaconda3/lib/python3.7/site-packages (from beautifulsoup4) (1.9.3)\n",
      "Note: you may need to restart the kernel to use updated packages.\n"
     ]
    }
   ],
   "source": [
    "#pip install beautifulsoup4\n",
    "#pip install requests\n",
    "#pip install geopy"
   ]
  },
  {
   "cell_type": "code",
   "execution_count": 1,
   "metadata": {},
   "outputs": [],
   "source": [
    "import requests\n",
    "from bs4 import BeautifulSoup\n",
    "import pandas as pd\n",
    "from geopy.geocoders import Nominatim\n",
    "#from geopy.exc import GeocoderTimedOut\n",
    "import re"
   ]
  },
  {
   "cell_type": "code",
   "execution_count": 2,
   "metadata": {},
   "outputs": [],
   "source": [
    "from geopy.exc import GeocoderTimedOut"
   ]
  },
  {
   "cell_type": "code",
   "execution_count": 3,
   "metadata": {},
   "outputs": [
    {
     "name": "stdout",
     "output_type": "stream",
     "text": [
      "Title: Rechercher une mosquée – Trouve Ta Mosquée\n"
     ]
    }
   ],
   "source": [
    "# The URL of the website you want to scrape\n",
    "url = 'https://www.trouvetamosquee.fr/rechercher-une-mosquee/?cname=*'  # Replace this with the desired website URL\n",
    "\n",
    "# Send an HTTP request to the URL\n",
    "response = requests.get(url)\n",
    "\n",
    "# Check if the request was successful (status code 200)\n",
    "if response.status_code == 200:\n",
    "    # Parse the HTML content of the page\n",
    "    html_content = response.content\n",
    "    soup = BeautifulSoup(html_content, 'html.parser')\n",
    "\n",
    "    # Now, you can work with the 'soup' object to extract information from the website\n",
    "    # For example, find and print the title of the webpage\n",
    "    print(\"Title:\", soup.title.get_text())\n",
    "    \n",
    "    # Find a specific element by its tag, class, id, etc.\n",
    "    specific_element = soup.find('div', class_='specific-class')  # Replace with your desired element and its attributes\n",
    "    if specific_element:\n",
    "        print(\"Specific Element:\", specific_element)\n",
    "\n",
    "    # You can extract more information as needed by navigating the HTML structure using Beautiful Soup\n",
    "\n",
    "else:\n",
    "    print(\"Failed to retrieve the webpage\")"
   ]
  },
  {
   "cell_type": "code",
   "execution_count": 4,
   "metadata": {},
   "outputs": [],
   "source": [
    "df = pd.DataFrame(columns = ['Name', 'Website', 'Adress', 'Dpt. Code', 'Dpt. Name', 'Phone', 'Latitude', 'Longitude'])"
   ]
  },
  {
   "cell_type": "code",
   "execution_count": 5,
   "metadata": {},
   "outputs": [],
   "source": [
    "loc = Nominatim(user_agent=\"Geopy Library\")"
   ]
  },
  {
   "cell_type": "code",
   "execution_count": 6,
   "metadata": {},
   "outputs": [],
   "source": [
    "mosqueelist = soup.find('article', class_='mosque-list').find('ul').find_all('li')"
   ]
  },
  {
   "cell_type": "code",
   "execution_count": 119,
   "metadata": {},
   "outputs": [],
   "source": [
    "#for mosquee in mosqueelist:\n",
    "#    Name = mosquee.find('h2').find('a').get_text()\n",
    "#    Website = mosquee.find('h2').find('a').get('href')\n",
    "#    Adress = mosquee.find('div', class_='list-content clearfix').find('div', class_='content-details left').find('h3', class_='address').find('a').get_text().split(\" - \")[0]\n",
    "#    DptCode = mosquee.find('div', class_='list-content clearfix').find('div', class_='content-details left').find('h3', class_='address').find('a').get_text().split(\" - \")[1].split(\" \")[0]\n",
    "#    DptName = mosquee.find('div', class_='list-content clearfix').find('div', class_='content-details left').find('h3', class_='address').find('a').get_text().split(\" - \")[1].split(\" \")[1]\n",
    "#    if mosquee.find('div', class_='list-content clearfix').find('div', class_='content-details left').find('p', class_='phone'):\n",
    "#        Phone = mosquee.find('div', class_='list-content clearfix').find('div', class_='content-details left').find('p', class_='phone').get_text()[12:]\n",
    "#    else:\n",
    "#        Phone = \"Not found\" \n",
    "#    \n",
    "#    df = df.append({'Name' : Name, 'Website' : Website, 'Adress' : Adress, 'Dpt. Code' : DptCode, 'Dpt. Name' : DptName, 'Phone' : Phone}, ignore_index = True)"
   ]
  },
  {
   "cell_type": "code",
   "execution_count": 33,
   "metadata": {},
   "outputs": [],
   "source": [
    "for idx, mosquee in enumerate(mosqueelist):\n",
    "    Name = mosquee.find('h2').find('a').get_text()\n",
    "    Website = mosquee.find('h2').find('a').get('href')\n",
    "    Adress = mosquee.find('div', class_='list-content clearfix').find('div', class_='content-details left').find('h3', class_='address').find('a').get_text().split(\" - \", 1)[0]\n",
    "    DptCode = mosquee.find('div', class_='list-content clearfix').find('div', class_='content-details left').find('h3', class_='address').find('a').get_text().split(\" - \", 1)[1].split(\" \", 1)[0]\n",
    "    DptName = mosquee.find('div', class_='list-content clearfix').find('div', class_='content-details left').find('h3', class_='address').find('a').get_text().split(\" - \", 1)[1].split(\" \", 1)[1]\n",
    "    if mosquee.find('div', class_='list-content clearfix').find('div', class_='content-details left').find('p', class_='phone'):\n",
    "        Phone = mosquee.find('div', class_='list-content clearfix').find('div', class_='content-details left').find('p', class_='phone').get_text()[12:]\n",
    "    else:\n",
    "        Phone = \"Not found\"\n",
    "    \n",
    "    try:\n",
    "        if loc.geocode(Adress+', '+ DptName):\n",
    "            getLoc = loc.geocode(Adress+', '+ DptName)\n",
    "            Lati = getLoc.latitude\n",
    "            Longi = getLoc.longitude\n",
    "        elif loc.geocode(Adress+', '+ DptCode):\n",
    "            getLoc = loc.geocode(Adress+', '+ DptCode)\n",
    "            Lati = getLoc.latitude\n",
    "            Longi = getLoc.longitude\n",
    "        elif loc.geocode(Adress+', '+ DptName +', '+ DptCode):\n",
    "            getLoc = loc.geocode(Adress+', '+ DptName +', '+ DptCode)\n",
    "            Lati = getLoc.latitude\n",
    "            Longi = getLoc.longitude\n",
    "        elif loc.geocode(Adress+', '+ DptName +', '+ DptCode +', '+ \"France\"):\n",
    "            getLoc = loc.geocode(Adress+', '+ DptName +', '+ DptCode +', '+ \"France\")\n",
    "            Lati = getLoc.latitude\n",
    "            Longi = getLoc.longitude\n",
    "        else:\n",
    "            Lati = 'Not found'\n",
    "            Longi = 'Not found'\n",
    "    except:\n",
    "        Lati = 'Not found'\n",
    "        Longi = 'Not found'\n",
    "    \n",
    "    #if idx != 615:\n",
    "    #    if loc.geocode(Adress+', '+ DptName):\n",
    "    #        getLoc = loc.geocode(Adress+', '+ DptName)\n",
    "    #        Lati = getLoc.latitude\n",
    "    #        Longi = getLoc.longitude\n",
    "    #    else:\n",
    "    #        Lati = 'Not found'\n",
    "    #        Longi = 'Not found'\n",
    "    #else:\n",
    "    #    Lati = 'Not found'\n",
    "    #    Longi = 'Not found'\n",
    "    \n",
    "    df = df.append({'Name' : Name, 'Website' : Website, 'Adress' : Adress, 'Dpt. Code' : DptCode, 'Dpt. Name' : DptName, 'Phone' : Phone, 'Latitude' : Lati, 'Longitude' : Longi}, ignore_index = True)"
   ]
  },
  {
   "cell_type": "code",
   "execution_count": 57,
   "metadata": {
    "scrolled": true
   },
   "outputs": [
    {
     "data": {
      "text/plain": [
       "'Mosquée Sultan Ahmet Camii'"
      ]
     },
     "execution_count": 57,
     "metadata": {},
     "output_type": "execute_result"
    }
   ],
   "source": [
    "#mosqueelist.find('li').find('h2').find('a').get_text()\n",
    "#mosqueelist.find('li').find('h2').find('a').get('href')\n",
    "#name = mosqueelist.find('li').find('div', class_='list-content clearfix').find('div', class_='content-details left').find('h3', class_='address').find('a').get_text()\n",
    "#name.split(\" - \")[0]\n",
    "#name.split(\" - \")[1].split(\" \")\n",
    "#mosqueelist.find('li').find('div', class_='list-content clearfix').find('div', class_='content-details left').find('p', class_='phone').get_text()[12:]"
   ]
  },
  {
   "cell_type": "code",
   "execution_count": 37,
   "metadata": {},
   "outputs": [],
   "source": [
    "df.to_excel('/Users/dantoni/Desktop/Mouad.xlsx', index=False)"
   ]
  }
 ],
 "metadata": {
  "kernelspec": {
   "display_name": "Python 3",
   "language": "python",
   "name": "python3"
  },
  "language_info": {
   "codemirror_mode": {
    "name": "ipython",
    "version": 3
   },
   "file_extension": ".py",
   "mimetype": "text/x-python",
   "name": "python",
   "nbconvert_exporter": "python",
   "pygments_lexer": "ipython3",
   "version": "3.7.4"
  }
 },
 "nbformat": 4,
 "nbformat_minor": 2
}
